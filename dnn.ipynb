{
  "nbformat": 4,
  "nbformat_minor": 0,
  "metadata": {
    "colab": {
      "provenance": []
    },
    "kernelspec": {
      "name": "python3",
      "display_name": "Python 3"
    },
    "language_info": {
      "name": "python"
    }
  },
  "cells": [
    {
      "cell_type": "code",
      "source": [
        "import numpy as np\n",
        "import scipy.io\n",
        "\n",
        "scipy.io.loadmat('Ag3/rates.mat')"
      ],
      "metadata": {
        "colab": {
          "base_uri": "https://localhost:8080/"
        },
        "id": "83RQbxHaJSk9",
        "outputId": "68fd4e07-117a-4803-e922-5dfd088bf43e"
      },
      "execution_count": null,
      "outputs": [
        {
          "output_type": "execute_result",
          "data": {
            "text/plain": [
              "{'__header__': b'MATLAB 5.0 MAT-file, Platform: MACA64, Created on: Mon Jan  1 13:41:32 2024',\n",
              " '__version__': '1.0',\n",
              " '__globals__': [],\n",
              " 'Ke': array([[0.51305627, 0.40734293, 0.17793968, 0.26288726, 0.23945907,\n",
              "         0.20132286, 0.18627218, 0.18208064, 0.16782497, 0.15222925,\n",
              "         0.14293715, 0.14976333, 0.14779419, 0.10054667, 0.09165488,\n",
              "         0.08924456, 0.09070592, 0.08868809, 0.08869469, 0.08796668,\n",
              "         0.08888803, 0.08898142, 0.0883102 , 0.08852341]]),\n",
              " 'Kh': array([[1.43668582, 0.21803212, 0.19490518, 0.20708593, 0.18258182,\n",
              "         0.13941256, 0.14105769, 0.13773302, 0.13356459, 0.13107936,\n",
              "         0.12759837, 0.12287635, 0.09695967, 0.09699222, 0.09577202,\n",
              "         0.09389894, 0.09366064, 0.09200363, 0.09575605, 0.09562147,\n",
              "         0.094173  , 0.09354044, 0.09325327, 0.09058369]]),\n",
              " 'iE': array([[ 2,  3,  4,  5,  6,  7,  8,  9, 10, 11, 12, 13, 14, 15, 16, 17,\n",
              "         18, 19, 20, 21, 22, 23, 24, 25]], dtype=uint8),\n",
              " 'iH': array([[ 2,  3,  4,  5,  6,  7,  8,  9, 10, 11, 12, 13, 14, 15, 16, 17,\n",
              "         18, 19, 20, 21, 22, 23, 24, 25]], dtype=uint8)}"
            ]
          },
          "metadata": {},
          "execution_count": 9
        }
      ]
    },
    {
      "cell_type": "code",
      "source": [
        "# Prepare the input files RRR and rates\n",
        "# Original RRR is 62x62, from HO-30 to LU+30\n",
        "def collect_data(filename_RRR, filename_rates):\n",
        "    RRR = np.loadtxt(filename_RRR)\n",
        "    data = scipy.io.loadmat(filename_rates)\n",
        "    HO=30\n",
        "    LU=HO+1\n",
        "    iH_start = 2\n",
        "    iH_end = 25\n",
        "    iE_start = 2\n",
        "    iE_end = 25\n",
        "    # treat e and h separately\n",
        "    RRRh = RRR[HO-iH_end+1:LU,HO-iH_end+1:LU] #include HO=30\n",
        "    RRRe = RRR[LU:LU+iE_end,LU:LU+iE_end] #include LU=31\n",
        "\n",
        "\n",
        "    # number_of_features: C(25,2)=25x24/2\n",
        "    # e.g. for h, 25 is HO-24. orbitals from HO-24 to HO all contribute.\n",
        "    n_features = 12*25\n",
        "    # 24 initial conditions for h\n",
        "    # 24 initial conditions for e\n",
        "    X = np.zeros((RRRh.shape[0]+RRRe.shape[0]-2, n_features))\n",
        "    #\n",
        "    for i in range(RRRh.shape[0]-1):\n",
        "      X[i, :] = RRRh[np.triu_indices(RRRh.shape[0], k=1)]\n",
        "      RRRh[:, -1-i] = 0\n",
        "\n",
        "    for i in range(RRRe.shape[0]-1):\n",
        "      X[i+RRRh.shape[0]-1, :] = RRRe[np.triu_indices(RRRe.shape[0], k=1)]\n",
        "      RRRe[:, -1-i] = 0\n",
        "\n",
        "    ke = data['Ke'].flatten()[::-1]\n",
        "    kh = data['Kh'].flatten()[::-1]\n",
        "    y = np.hstack((kh, ke))\n",
        "    return X, y"
      ],
      "metadata": {
        "id": "o22ZEg79Fgh9"
      },
      "execution_count": null,
      "outputs": []
    },
    {
      "cell_type": "code",
      "source": [
        "# suppose our initial conditions are ho-4, ho-3, ho-2, ho-1\n",
        "# we have converted RRR into RRRh, which is 5x5, i.e. ho-4 to ho\n",
        "# for initial condition ho-4, we care about 10 pairs:\n",
        "# (ho-4,ho-3), (ho-4,ho-3), (ho-4,ho-2), (ho-4,ho-1), (ho-4,ho),\n",
        "# (ho-3,ho-2), (ho-3,ho-1), (ho-3,ho),\n",
        "# (ho-2,ho-1), (ho-2,ho)\n",
        "# (ho-1,ho)\n",
        "# for initial condition ho-3, we care about 6 pairs:\n",
        "# 0, 0, 0, 0\n",
        "# (ho-3,ho-2), (ho-3,ho-1), (ho-3,ho),\n",
        "# (ho-2,ho-1), (ho-2,ho)\n",
        "# (ho-1,ho)\n",
        "# for initial condition ho-2, we care about 3 pairs:\n",
        "# 0, 0, 0, 0\n",
        "# 0, 0, 0,\n",
        "# (ho-2,ho-1), (ho-2,ho)\n",
        "# (ho-1,ho)\n",
        "# for initial condition ho-1, we care about 1 pairs:\n",
        "# 0, 0, 0, 0\n",
        "# 0, 0, 0,\n",
        "# 0, 0,\n",
        "# (ho-1,ho)\n",
        "RRRh = np.arange(25).reshape(5, -1)\n",
        "RRRh = (RRRh + RRRh.T) / 6\n",
        "np.fill_diagonal(RRRh, 0)\n",
        "print(RRRh)\n",
        "X = np.zeros((4,10))\n",
        "for i in range(4):\n",
        "      X[i, :] = RRRh[np.triu_indices(RRRh.shape[0], k=1)]\n",
        "      RRRh[:, -1-i] = 0\n",
        "print()\n",
        "print(X)\n"
      ],
      "metadata": {
        "colab": {
          "base_uri": "https://localhost:8080/"
        },
        "id": "bXystdtXH321",
        "outputId": "da6bea71-ab56-4f60-b267-5e38a1e1c296"
      },
      "execution_count": null,
      "outputs": [
        {
          "output_type": "stream",
          "name": "stdout",
          "text": [
            "[[0. 1. 2. 3. 4.]\n",
            " [1. 0. 3. 4. 5.]\n",
            " [2. 3. 0. 5. 6.]\n",
            " [3. 4. 5. 0. 7.]\n",
            " [4. 5. 6. 7. 0.]]\n",
            "\n",
            "[[1. 2. 3. 4. 3. 4. 5. 5. 6. 7.]\n",
            " [1. 2. 3. 0. 3. 4. 0. 5. 0. 0.]\n",
            " [1. 2. 0. 0. 3. 0. 0. 0. 0. 0.]\n",
            " [1. 0. 0. 0. 0. 0. 0. 0. 0. 0.]]\n"
          ]
        }
      ]
    },
    {
      "cell_type": "code",
      "source": [
        "filename = ['Si', 'Ag3', 'Ag4', 'Ag5', 'Ag6', 'Ag7']\n",
        "X_all = []\n",
        "y_all = []\n",
        "\n",
        "for i in range(len(filename)):\n",
        "    X, y = collect_data(filename[i]+'/RRR', filename[i]+'/rates.mat')\n",
        "    one_hot = np.zeros(len(filename))\n",
        "    one_hot[i] = 1\n",
        "    one_hot = np.tile(one_hot, (X.shape[0],1))\n",
        "    X = np.hstack((X, one_hot))\n",
        "    X_all.append(X)\n",
        "    y_all.append(y)\n",
        "\n",
        "X = np.vstack(X_all)\n",
        "y = np.hstack(y_all)\n",
        "\n",
        "n_select_features = X.shape[1] - len(filename)\n",
        "# convert fs-1 to ps-1\n",
        "X[:, :n_select_features] = X[:, :n_select_features] * 1.0e3"
      ],
      "metadata": {
        "id": "uA3sKt-GPE69"
      },
      "execution_count": null,
      "outputs": []
    },
    {
      "cell_type": "code",
      "source": [
        "from sklearn.model_selection import train_test_split\n",
        "import torch\n",
        "\n",
        "X_train, X_test, y_train, y_test = train_test_split(X, y,\n",
        "                                                   train_size=0.8,\n",
        "                                                   random_state=123)\n",
        "X_train = torch.from_numpy(X_train).float()\n",
        "X_test = torch.from_numpy(X_test).float()\n",
        "y_train = torch.from_numpy(y_train).float()\n",
        "y_test = torch.from_numpy(y_test).float()"
      ],
      "metadata": {
        "id": "9wN7P8jObxKx"
      },
      "execution_count": null,
      "outputs": []
    },
    {
      "cell_type": "code",
      "source": [
        "import torch.nn as nn\n",
        "from torch.utils.data import DataLoader, Dataset\n",
        "\n",
        "class TrainDataset(Dataset):\n",
        "    def __init__(self, x, y):\n",
        "        self.x = x\n",
        "        self.y = y\n",
        "    def __len__(self):\n",
        "        return len(self.x)\n",
        "    def __getitem__(self, idx):\n",
        "        return self.x[idx], self.y[idx]\n",
        "\n",
        "train_ds = TrainDataset(X_train, y_train)\n",
        "batch_size = 2\n",
        "train_dl = DataLoader(train_ds, batch_size=batch_size,\n",
        "                     shuffle=True)\n",
        "\n",
        "class Model(nn.Module):\n",
        "    def __init__(self, input_size, hidden_size, output_size):\n",
        "        super().__init__()\n",
        "        l1 = nn.Linear(input_size, hidden_size[0])\n",
        "        a1 = nn.ReLU()\n",
        "        l2 = nn.Linear(hidden_size[0], hidden_size[1])\n",
        "        a2 = nn.ReLU()\n",
        "        l3 = nn.Linear(hidden_size[1], hidden_size[2])\n",
        "        a3 = nn.ReLU()\n",
        "        l4 = nn.Linear(hidden_size[2], hidden_size[3])\n",
        "        a4 = nn.ReLU()\n",
        "        l5 = nn.Linear(hidden_size[3], output_size)\n",
        "        l = [l1, a1, l2, a2, l3, a3, l4, a4, l5]\n",
        "        self.layers = nn.ModuleList(l)\n",
        "\n",
        "    def forward(self, x):\n",
        "        for f in self.layers:\n",
        "            x = f(x)\n",
        "        return x\n",
        "\n",
        "import copy\n",
        "input_size = X_train.shape[1]\n",
        "hidden_size = [512, 256, 64, 16]\n",
        "output_size = 1\n",
        "num_epochs = 100\n",
        "lr = 0.0001\n",
        "model = Model(input_size, hidden_size, output_size)\n",
        "loss_fn = nn.MSELoss()\n",
        "optimizer = torch.optim.Adam(model.parameters(), lr=lr)\n",
        "# Hold the best model\n",
        "best_mse = np.inf   # init to infinity\n",
        "best_weights = None\n",
        "loss_hist_train = [0] * num_epochs\n",
        "loss_hist_test = [0] * num_epochs\n",
        "for epoch in range(num_epochs):\n",
        "    for x_batch, y_batch in train_dl:\n",
        "        pred = model(x_batch)[:,0]\n",
        "        loss = loss_fn(pred, y_batch)\n",
        "        optimizer.zero_grad()\n",
        "        loss.backward()\n",
        "        optimizer.step()\n",
        "        loss_hist_train[epoch] += loss.item()\n",
        "    loss_hist_train[epoch] /= len(train_ds)/batch_size\n",
        "    pred = model(X_test)[:,0]\n",
        "    loss = loss_fn(pred, y_test)\n",
        "    loss_hist_test[epoch] += loss.item()\n",
        "\n",
        "    if loss.item() < best_mse:\n",
        "        best_mse = loss.item()\n",
        "        best_weights = copy.deepcopy(model.state_dict())\n",
        "\n",
        "    if (epoch+1) % 10 == 0:\n",
        "        print(f'epoch: {epoch+1} ')\n",
        "        print(f'training loss: {loss_hist_train[epoch]:.4f} ')\n",
        "        print(f'testing loss: {loss_hist_test[epoch]:.4f} ')\n",
        "        print('-'*50)"
      ],
      "metadata": {
        "colab": {
          "base_uri": "https://localhost:8080/"
        },
        "id": "TikY_KTbcWVh",
        "outputId": "e780a838-e7c3-49a8-c049-2c2fa6344166"
      },
      "execution_count": null,
      "outputs": [
        {
          "output_type": "stream",
          "name": "stdout",
          "text": [
            "epoch: 10 \n",
            "training loss: 0.2344 \n",
            "testing loss: 0.1016 \n",
            "--------------------------------------------------\n",
            "epoch: 20 \n",
            "training loss: 0.2112 \n",
            "testing loss: 0.0787 \n",
            "--------------------------------------------------\n",
            "epoch: 30 \n",
            "training loss: 0.1992 \n",
            "testing loss: 0.0752 \n",
            "--------------------------------------------------\n",
            "epoch: 40 \n",
            "training loss: 0.1950 \n",
            "testing loss: 0.0707 \n",
            "--------------------------------------------------\n",
            "epoch: 50 \n",
            "training loss: 0.1807 \n",
            "testing loss: 0.0697 \n",
            "--------------------------------------------------\n",
            "epoch: 60 \n",
            "training loss: 0.1782 \n",
            "testing loss: 0.0684 \n",
            "--------------------------------------------------\n",
            "epoch: 70 \n",
            "training loss: 0.1706 \n",
            "testing loss: 0.0677 \n",
            "--------------------------------------------------\n",
            "epoch: 80 \n",
            "training loss: 0.1684 \n",
            "testing loss: 0.0622 \n",
            "--------------------------------------------------\n",
            "epoch: 90 \n",
            "training loss: 0.1630 \n",
            "testing loss: 0.0615 \n",
            "--------------------------------------------------\n",
            "epoch: 100 \n",
            "training loss: 0.1589 \n",
            "testing loss: 0.0619 \n",
            "--------------------------------------------------\n"
          ]
        }
      ]
    },
    {
      "cell_type": "code",
      "source": [
        "# restore model and return best accuracy\n",
        "model.load_state_dict(best_weights)"
      ],
      "metadata": {
        "colab": {
          "base_uri": "https://localhost:8080/"
        },
        "id": "QOG4ORlsxMxd",
        "outputId": "4cfe50e1-9c98-4c13-c11d-9784db81c81a"
      },
      "execution_count": null,
      "outputs": [
        {
          "output_type": "execute_result",
          "data": {
            "text/plain": [
              "<All keys matched successfully>"
            ]
          },
          "metadata": {},
          "execution_count": 44
        }
      ]
    },
    {
      "cell_type": "code",
      "source": [
        "with torch.no_grad():\n",
        "    pred = model(X_test)[:,0]\n",
        "    pred_train = model(X_train)[:,0]\n",
        "    loss = loss_fn(pred, y_test)\n",
        "    mae_loss = nn.L1Loss()(pred, y_test)\n",
        "    print(f'test MSE loss: {loss.item()}')\n",
        "    print(f'test MAE loss: {mae_loss.item()}')\n"
      ],
      "metadata": {
        "colab": {
          "base_uri": "https://localhost:8080/"
        },
        "id": "6l7d1WAlx0zc",
        "outputId": "6f9a05d9-b2fc-4a9e-b032-66615ddde6b4"
      },
      "execution_count": null,
      "outputs": [
        {
          "output_type": "stream",
          "name": "stdout",
          "text": [
            "test MSE loss: 0.05932234600186348\n",
            "test MAE loss: 0.07852663844823837\n"
          ]
        }
      ]
    },
    {
      "cell_type": "code",
      "source": [
        "import matplotlib.pyplot as plt\n",
        "plt.scatter(y_test, pred)\n",
        "plt.scatter(y_train, pred_train)\n",
        "plt.xlabel('True')\n",
        "plt.ylabel('Predicted')\n",
        "plt.xlim(-0.5, y.max()+0.5)\n",
        "plt.ylim(-0.5, y.max()+0.5)\n",
        "plt.plot([-0.5, y.max()+0.5], [-0.5, y.max()+0.5], 'k--')\n",
        "plt.show()"
      ],
      "metadata": {
        "colab": {
          "base_uri": "https://localhost:8080/",
          "height": 449
        },
        "id": "30QtoJsryUuC",
        "outputId": "d422f426-5a89-4b3a-9930-d061c14b2889"
      },
      "execution_count": null,
      "outputs": [
        {
          "output_type": "display_data",
          "data": {
            "text/plain": [
              "<Figure size 640x480 with 1 Axes>"
            ],
            "image/png": "[encoded data removed]"
          },
          "metadata": {}
        }
      ]
    },
    {
      "cell_type": "code",
      "source": [],
      "metadata": {
        "id": "uMfWQ1hq0bF_"
      },
      "execution_count": null,
      "outputs": []
    },
    {
      "cell_type": "code",
      "source": [],
      "metadata": {
        "id": "qIb1eYSc2ZWX"
      },
      "execution_count": null,
      "outputs": []
    }
  ]
}